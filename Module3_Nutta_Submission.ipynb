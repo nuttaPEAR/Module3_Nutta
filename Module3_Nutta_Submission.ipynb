{
 "cells": [
  {
   "cell_type": "markdown",
   "id": "b374673f",
   "metadata": {},
   "source": [
    "# AH2179 Applied AI in Transportation\n",
    "## Module3 Development of classification models for mode choices\n",
    "### Nutta Sittirash"
   ]
  },
  {
   "cell_type": "markdown",
   "id": "8886ef06",
   "metadata": {},
   "source": [
    "Find the best classification model and the corresonding hyperparameters,\\\n",
    "that accurately predicts these choices (travel mode) using the grid search.\n",
    "\n",
    "**The model with the highest accuracy score are:**\n",
    "\n",
    "LR with dummy encoding: accuracy score = 0.5746753246753247\\\n",
    "XGBoost with any encoding method: accuracy score = 0.5746753246753247"
   ]
  },
  {
   "cell_type": "code",
   "execution_count": 1,
   "id": "94834cc4",
   "metadata": {},
   "outputs": [],
   "source": [
    "from sklearn.preprocessing import LabelEncoder\n",
    "from sklearn.model_selection import train_test_split,GridSearchCV\n",
    "from sklearn.linear_model import LogisticRegression\n",
    "from sklearn.neighbors import KNeighborsClassifier\n",
    "from sklearn.ensemble import RandomForestClassifier\n",
    "from xgboost import XGBClassifier\n",
    "from sklearn.svm import SVC\n",
    "from sklearn.naive_bayes import BernoulliNB\n",
    "from sklearn.metrics import ConfusionMatrixDisplay as cmd\n",
    "from sklearn.metrics import accuracy_score, precision_score, recall_score\n",
    "import pandas as pd\n",
    "import os\n",
    "import warnings\n",
    "from sklearn.exceptions import ConvergenceWarning\n",
    "warnings.filterwarnings(\"ignore\", category=ConvergenceWarning)"
   ]
  },
  {
   "cell_type": "markdown",
   "id": "3fc499f6",
   "metadata": {},
   "source": [
    "### Load and prepare the data"
   ]
  },
  {
   "cell_type": "code",
   "execution_count": 2,
   "id": "743f4ce7",
   "metadata": {},
   "outputs": [
    {
     "data": {
      "text/html": [
       "<div>\n",
       "<style scoped>\n",
       "    .dataframe tbody tr th:only-of-type {\n",
       "        vertical-align: middle;\n",
       "    }\n",
       "\n",
       "    .dataframe tbody tr th {\n",
       "        vertical-align: top;\n",
       "    }\n",
       "\n",
       "    .dataframe thead th {\n",
       "        text-align: right;\n",
       "    }\n",
       "</style>\n",
       "<table border=\"1\" class=\"dataframe\">\n",
       "  <thead>\n",
       "    <tr style=\"text-align: right;\">\n",
       "      <th></th>\n",
       "      <th>ID</th>\n",
       "      <th>time_car</th>\n",
       "      <th>cost_car</th>\n",
       "      <th>time_bus</th>\n",
       "      <th>cost_bus</th>\n",
       "      <th>access_bus</th>\n",
       "      <th>time_air</th>\n",
       "      <th>cost_air</th>\n",
       "      <th>access_air</th>\n",
       "      <th>service_air</th>\n",
       "      <th>time_rail</th>\n",
       "      <th>cost_rail</th>\n",
       "      <th>access_rail</th>\n",
       "      <th>service_rail</th>\n",
       "      <th>choice</th>\n",
       "    </tr>\n",
       "  </thead>\n",
       "  <tbody>\n",
       "    <tr>\n",
       "      <th>0</th>\n",
       "      <td>1</td>\n",
       "      <td>275</td>\n",
       "      <td>50</td>\n",
       "      <td>330</td>\n",
       "      <td>35</td>\n",
       "      <td>20</td>\n",
       "      <td>80</td>\n",
       "      <td>65</td>\n",
       "      <td>55</td>\n",
       "      <td>food</td>\n",
       "      <td>120</td>\n",
       "      <td>45</td>\n",
       "      <td>5</td>\n",
       "      <td>no-frills</td>\n",
       "      <td>air</td>\n",
       "    </tr>\n",
       "    <tr>\n",
       "      <th>1</th>\n",
       "      <td>2</td>\n",
       "      <td>275</td>\n",
       "      <td>45</td>\n",
       "      <td>330</td>\n",
       "      <td>15</td>\n",
       "      <td>5</td>\n",
       "      <td>70</td>\n",
       "      <td>110</td>\n",
       "      <td>40</td>\n",
       "      <td>wifi</td>\n",
       "      <td>170</td>\n",
       "      <td>55</td>\n",
       "      <td>25</td>\n",
       "      <td>food</td>\n",
       "      <td>rail</td>\n",
       "    </tr>\n",
       "    <tr>\n",
       "      <th>2</th>\n",
       "      <td>3</td>\n",
       "      <td>275</td>\n",
       "      <td>45</td>\n",
       "      <td>390</td>\n",
       "      <td>15</td>\n",
       "      <td>25</td>\n",
       "      <td>70</td>\n",
       "      <td>80</td>\n",
       "      <td>55</td>\n",
       "      <td>no-frills</td>\n",
       "      <td>155</td>\n",
       "      <td>35</td>\n",
       "      <td>5</td>\n",
       "      <td>no-frills</td>\n",
       "      <td>rail</td>\n",
       "    </tr>\n",
       "    <tr>\n",
       "      <th>3</th>\n",
       "      <td>4</td>\n",
       "      <td>300</td>\n",
       "      <td>45</td>\n",
       "      <td>300</td>\n",
       "      <td>15</td>\n",
       "      <td>10</td>\n",
       "      <td>60</td>\n",
       "      <td>110</td>\n",
       "      <td>40</td>\n",
       "      <td>wifi</td>\n",
       "      <td>155</td>\n",
       "      <td>65</td>\n",
       "      <td>20</td>\n",
       "      <td>no-frills</td>\n",
       "      <td>rail</td>\n",
       "    </tr>\n",
       "    <tr>\n",
       "      <th>4</th>\n",
       "      <td>5</td>\n",
       "      <td>390</td>\n",
       "      <td>35</td>\n",
       "      <td>390</td>\n",
       "      <td>35</td>\n",
       "      <td>10</td>\n",
       "      <td>60</td>\n",
       "      <td>95</td>\n",
       "      <td>45</td>\n",
       "      <td>wifi</td>\n",
       "      <td>155</td>\n",
       "      <td>65</td>\n",
       "      <td>15</td>\n",
       "      <td>food</td>\n",
       "      <td>rail</td>\n",
       "    </tr>\n",
       "  </tbody>\n",
       "</table>\n",
       "</div>"
      ],
      "text/plain": [
       "   ID  time_car  cost_car  time_bus  cost_bus  access_bus  time_air  cost_air  \\\n",
       "0   1       275        50       330        35          20        80        65   \n",
       "1   2       275        45       330        15           5        70       110   \n",
       "2   3       275        45       390        15          25        70        80   \n",
       "3   4       300        45       300        15          10        60       110   \n",
       "4   5       390        35       390        35          10        60        95   \n",
       "\n",
       "   access_air service_air  time_rail  cost_rail  access_rail service_rail  \\\n",
       "0          55        food        120         45            5    no-frills   \n",
       "1          40        wifi        170         55           25         food   \n",
       "2          55   no-frills        155         35            5    no-frills   \n",
       "3          40        wifi        155         65           20    no-frills   \n",
       "4          45        wifi        155         65           15         food   \n",
       "\n",
       "  choice  \n",
       "0    air  \n",
       "1   rail  \n",
       "2   rail  \n",
       "3   rail  \n",
       "4   rail  "
      ]
     },
     "execution_count": 2,
     "metadata": {},
     "output_type": "execute_result"
    }
   ],
   "source": [
    "url = 'https://raw.githubusercontent.com/zhenliangma/Applied-AI-in-Transportation/master/Exercise-3%20mode%20choice%20model/modeChoiceData.csv'\n",
    "data = pd.read_csv(url)\n",
    "data.head()"
   ]
  },
  {
   "cell_type": "code",
   "execution_count": 3,
   "id": "1b22b423",
   "metadata": {
    "scrolled": false
   },
   "outputs": [
    {
     "name": "stdout",
     "output_type": "stream",
     "text": [
      "<class 'pandas.core.frame.DataFrame'>\n",
      "RangeIndex: 3080 entries, 0 to 3079\n",
      "Data columns (total 15 columns):\n",
      " #   Column        Non-Null Count  Dtype \n",
      "---  ------        --------------  ----- \n",
      " 0   ID            3080 non-null   int64 \n",
      " 1   time_car      3080 non-null   int64 \n",
      " 2   cost_car      3080 non-null   int64 \n",
      " 3   time_bus      3080 non-null   int64 \n",
      " 4   cost_bus      3080 non-null   int64 \n",
      " 5   access_bus    3080 non-null   int64 \n",
      " 6   time_air      3080 non-null   int64 \n",
      " 7   cost_air      3080 non-null   int64 \n",
      " 8   access_air    3080 non-null   int64 \n",
      " 9   service_air   3080 non-null   object\n",
      " 10  time_rail     3080 non-null   int64 \n",
      " 11  cost_rail     3080 non-null   int64 \n",
      " 12  access_rail   3080 non-null   int64 \n",
      " 13  service_rail  3080 non-null   object\n",
      " 14  choice        3080 non-null   object\n",
      "dtypes: int64(12), object(3)\n",
      "memory usage: 361.1+ KB\n"
     ]
    }
   ],
   "source": [
    "data.info()"
   ]
  },
  {
   "cell_type": "code",
   "execution_count": 4,
   "id": "2a4e4bc2",
   "metadata": {
    "scrolled": true
   },
   "outputs": [
    {
     "data": {
      "text/plain": [
       "choice\n",
       "air      705\n",
       "bus      109\n",
       "car      978\n",
       "rail    1288\n",
       "dtype: int64"
      ]
     },
     "execution_count": 4,
     "metadata": {},
     "output_type": "execute_result"
    }
   ],
   "source": [
    "data.groupby('choice').size()"
   ]
  },
  {
   "cell_type": "markdown",
   "id": "b868ccf8",
   "metadata": {},
   "source": [
    "### Model 1 - Logistis Regression"
   ]
  },
  {
   "cell_type": "markdown",
   "id": "bb150f7a",
   "metadata": {},
   "source": [
    "**Side Note**\n",
    "\n",
    "**best parameter: 'C' = 0.01**\n",
    "\n",
    "**LR with Dummy Encoding:** has the highest accuracy score.\n",
    "\n",
    "**LR with One-Hot Encoding:**\\\n",
    "{'C': 0.1}\\\n",
    "Accuracy: 0.5665584415584416\\\n",
    "Precision: [0.54347826 0.25       0.48       0.6459854 ]\\\n",
    "Recall: [0.54347826 0.04545455 0.48730964 0.68339768]\n",
    "\n",
    "**LR with Label Encoding:**\\\n",
    "{'C': 0.1}\\\n",
    "Accuracy: 0.5698051948051948\\\n",
    "Precision: [0.56521739 0.25       0.48292683 0.64312268]\\\n",
    "Recall: [0.56521739 0.04545455 0.50253807 0.66795367]"
   ]
  },
  {
   "cell_type": "code",
   "execution_count": null,
   "id": "e97fe02f",
   "metadata": {},
   "outputs": [],
   "source": [
    "# Use only 1000 records\n",
    "df = df.iloc[:1000]\n",
    "\n",
    "df = df.drop(['ID', 'time_car','time_bus','cost_car','cost_bus','access_car', 'access_bus'], axis=1)"
   ]
  },
  {
   "cell_type": "code",
   "execution_count": 68,
   "id": "e54e0786",
   "metadata": {},
   "outputs": [
    {
     "name": "stdout",
     "output_type": "stream",
     "text": [
      "{'C': 0.01}\n"
     ]
    }
   ],
   "source": [
    "#(3) Dummy Encoding\n",
    "df=data.copy()\n",
    "dummy_df = pd.get_dummies(df[['service_air', 'service_rail']], drop_first=True)\n",
    "df = pd.concat([df, dummy_df], axis=1)\n",
    "df=df.drop(['service_air', 'service_rail'],axis=1)\n",
    "\n",
    "x = df.drop(['choice','ID',], axis=1)\n",
    "y = df['choice']\n",
    "x_train, x_test, y_train, y_test = train_test_split(x, y, test_size=0.2,random_state=0)\n",
    "\n",
    "# LR\n",
    "\n",
    "params = {\n",
    "    #'C': [0.01, 0.1, 1, 10, 100],\n",
    "    'C': [0.002, 0.004, 0.006, 0.008, 0.010],\n",
    "}\n",
    "model_LR3 = LogisticRegression(max_iter=1000, random_state=0)\n",
    "\n",
    "grid_search = GridSearchCV(estimator=model_LR3, param_grid=params, cv=5, scoring='accuracy')\n",
    "\n",
    "# Fit the GridSearchCV object to the training data to perform hyperparameter tuning\n",
    "grid_search.fit(x_train, y_train)\n",
    "\n",
    "# Retrieve the best hyperparameters identified by the grid search\n",
    "best_params = grid_search.best_params_\n",
    "print(best_params)"
   ]
  },
  {
   "cell_type": "code",
   "execution_count": 69,
   "id": "72062d69",
   "metadata": {},
   "outputs": [
    {
     "name": "stdout",
     "output_type": "stream",
     "text": [
      "Accuracy: 0.5746753246753247\n",
      "Precision: [0.55244755 0.25       0.48803828 0.66153846]\n",
      "Recall: [0.57246377 0.04545455 0.5177665  0.66409266]\n"
     ]
    },
    {
     "data": {
      "image/png": "[encoded data removed]",
      "text/plain": [
       "<Figure size 432x288 with 1 Axes>"
      ]
     },
     "metadata": {
      "needs_background": "light"
     },
     "output_type": "display_data"
    }
   ],
   "source": [
    "# Retrieve the best cross-validated accuracy score achieved with the best hyperparameters\n",
    "best_score = grid_search.best_score_\n",
    "\n",
    "# Set 'model' to be the best estimator (model with the best hyperparameters) identified by the grid search\n",
    "model_LR3 = grid_search.best_estimator_\n",
    "model_LR3.fit(x_train, y_train)\n",
    "cmd.from_estimator(model_LR3, x_test, y_test,cmap='Blues',colorbar=False)\n",
    "\n",
    "print(f'Accuracy: {accuracy_score(y_test,model_LR3.predict(x_test))}')\n",
    "print(f'Precision: {precision_score(y_test,model_LR3.predict(x_test),average=None)}')\n",
    "print(f'Recall: {recall_score(y_test,model_LR3.predict(x_test),average=None)}')"
   ]
  },
  {
   "cell_type": "markdown",
   "id": "d72a7e87",
   "metadata": {},
   "source": [
    "### Model 2 - KNN"
   ]
  },
  {
   "cell_type": "markdown",
   "id": "64322c3d",
   "metadata": {},
   "source": [
    "**Side Note**\n",
    "\n",
    "**best parameter: 'n_neighbors': 9, 'weights': 'uniform'**\n",
    "\n",
    "**KNN with One-Hot Encoding:** has the highest accuracy score.\n",
    "\n",
    "**KNN with Dummy Encoding:**\\\n",
    "{'n_neighbors': 100, 'weights': 'distance'}\\\n",
    "Accuracy: 0.525974025974026\\\n",
    "Precision: [0.50322581 0.25       0.43147208 0.61538462]\\\n",
    "Recall: [0.56521739 0.04545455 0.43147208 0.61776062]\n",
    "\n",
    "**KNN with Label Encoding:**\\\n",
    "{'n_neighbors': 100, 'weights': 'distance'}\\\n",
    "Accuracy: 0.525974025974026\\\n",
    "Precision: [0.50322581 0.25       0.43147208 0.61538462]\\\n",
    "Recall: [0.56521739 0.04545455 0.43147208 0.61776062]\n"
   ]
  },
  {
   "cell_type": "code",
   "execution_count": 48,
   "id": "a1a08e06",
   "metadata": {},
   "outputs": [
    {
     "name": "stdout",
     "output_type": "stream",
     "text": [
      "Optimal K: 100\n",
      "Optimal Accuracy: 0.5227272727272727\n"
     ]
    }
   ],
   "source": [
    "import numpy as np\n",
    "from sklearn.datasets import load_iris\n",
    "from sklearn.model_selection import cross_val_score\n",
    "from sklearn.neighbors import KNeighborsClassifier\n",
    "\n",
    "df = pd.get_dummies(data, columns=['service_air', 'service_rail'])\n",
    "x = df.drop(['choice','ID',], axis=1)\n",
    "y = df['choice']\n",
    "x_train, x_test, y_train, y_test = train_test_split(x, y, test_size=0.2,random_state=0)\n",
    "\n",
    "k_values = range(100, 1000)\n",
    "cv_scores = []\n",
    "\n",
    "for k in k_values:\n",
    " knn = KNeighborsClassifier(n_neighbors=k)\n",
    " scores = cross_val_score(knn, x, y, cv=5, scoring='accuracy')\n",
    " cv_scores.append(scores.mean())\n",
    "\n",
    "optimal_k = k_values[np.argmax(cv_scores)]\n",
    "optimal_accuracy = max(cv_scores)\n",
    "\n",
    "# Print the results\n",
    "print(\"Optimal K:\", optimal_k)\n",
    "print(\"Optimal Accuracy:\", optimal_accuracy)"
   ]
  },
  {
   "cell_type": "code",
   "execution_count": 22,
   "id": "27ad483a",
   "metadata": {
    "scrolled": true
   },
   "outputs": [
    {
     "name": "stdout",
     "output_type": "stream",
     "text": [
      "{'n_neighbors': 9, 'weights': 'uniform'}\n"
     ]
    }
   ],
   "source": [
    "# One-Hot Encoding\n",
    "df = pd.get_dummies(data, columns=['service_air', 'service_rail'])\n",
    "x = df.drop(['choice','ID',], axis=1)\n",
    "y = df['choice']\n",
    "x_train, x_test, y_train, y_test = train_test_split(x, y, test_size=0.2,random_state=0)\n",
    "\n",
    "# KNN\n",
    "params = {\n",
    "    #'n_neighbors': [100], # 0.525974025974026  \n",
    "    #'n_neighbors': [100, 200, 300, 400],\n",
    "    'n_neighbors': [3, 5, 7, 9],\n",
    "    'weights': ['uniform', 'distance'],\n",
    "}\n",
    "model_KNN1=KNeighborsClassifier()\n",
    "\n",
    "grid_search = GridSearchCV(estimator=model_KNN1, param_grid=params, cv=5, scoring='accuracy')\n",
    "grid_search.fit(x_train, y_train)\n",
    "best_params = grid_search.best_params_\n",
    "print(best_params)"
   ]
  },
  {
   "cell_type": "code",
   "execution_count": 23,
   "id": "e0c36acb",
   "metadata": {},
   "outputs": [
    {
     "name": "stdout",
     "output_type": "stream",
     "text": [
      "Accuracy: 0.5324675324675324\n",
      "Precision: [0.49710983 0.         0.4301676  0.64705882]\n",
      "Recall: [0.62318841 0.         0.39086294 0.63706564]\n"
     ]
    },
    {
     "data": {
      "image/png": "[encoded data removed]",
      "text/plain": [
       "<Figure size 432x288 with 1 Axes>"
      ]
     },
     "metadata": {
      "needs_background": "light"
     },
     "output_type": "display_data"
    }
   ],
   "source": [
    "best_score = grid_search.best_score_\n",
    "model_KNN1 = grid_search.best_estimator_\n",
    "cmd.from_estimator(model_KNN1, x_test, y_test,cmap='Blues',colorbar=False)\n",
    "\n",
    "print(f'Accuracy: {accuracy_score(y_test,model_KNN1.predict(x_test))}')\n",
    "print(f'Precision: {precision_score(y_test,model_KNN1.predict(x_test),average=None)}')\n",
    "print(f'Recall: {recall_score(y_test,model_KNN1.predict(x_test),average=None)}')"
   ]
  },
  {
   "cell_type": "markdown",
   "id": "9e407694",
   "metadata": {},
   "source": [
    "### Model 3 - RF"
   ]
  },
  {
   "cell_type": "markdown",
   "id": "2f271cd9",
   "metadata": {},
   "source": [
    "**Side Note**\n",
    "\n",
    "**Best parameter: 'max_depth': 10, 'min_samples_leaf': 4, 'min_samples_split': 2, 'n_estimators': 1000**\n",
    "\n",
    "**RF with One-Hot Encoding:** has the highest accuracy score.\n",
    "\n",
    "**RF with Dummy Encoding and Label Encoding:**\\\n",
    "Accuracy: 0.5340909090909091\\\n",
    "Precision: [0.52142857 0.25       0.43781095 0.61623616]\\\n",
    "Recall: [0.52898551 0.04545455 0.44670051 0.64478764]"
   ]
  },
  {
   "cell_type": "code",
   "execution_count": 40,
   "id": "57c236bb",
   "metadata": {},
   "outputs": [
    {
     "name": "stdout",
     "output_type": "stream",
     "text": [
      "{'max_depth': 10, 'min_samples_leaf': 4, 'min_samples_split': 2, 'n_estimators': 1000}\n"
     ]
    }
   ],
   "source": [
    "# One-Hot Encoding\n",
    "df = pd.get_dummies(data, columns=['service_air', 'service_rail'])\n",
    "x = df.drop(['choice','ID',], axis=1)\n",
    "y = df['choice']\n",
    "x_train, x_test, y_train, y_test = train_test_split(x, y, test_size=0.2,random_state=0)\n",
    "\n",
    "#(3)RF\n",
    "params = { \n",
    "     #'n_estimators': [800, 900, 1000],\n",
    "     #'max_depth': [None, 10, 20, 30],\n",
    "     #'min_samples_split': [1, 2, 3],\n",
    "     #'min_samples_leaf': [1, 2, 4]\n",
    "     'n_estimators': [1000],\n",
    "     'max_depth': [10],\n",
    "     'min_samples_split': [2],\n",
    "     'min_samples_leaf': [4]\n",
    " }\n",
    "model_RF1 = RandomForestClassifier(random_state=0)\n",
    "#scores = cross_val_score(knn, X, y, cv=5, scoring='accuracy', error_score='raise')\n",
    "grid_search = GridSearchCV(estimator=model_RF1, param_grid=params, cv=5, scoring='accuracy')\n",
    "grid_search.fit(x_train, y_train)\n",
    "best_params = grid_search.best_params_\n",
    "print(best_params)"
   ]
  },
  {
   "cell_type": "code",
   "execution_count": 41,
   "id": "1d8cbb60",
   "metadata": {},
   "outputs": [
    {
     "name": "stdout",
     "output_type": "stream",
     "text": [
      "Accuracy: 0.5373376623376623\n",
      "Precision: [0.52898551 0.25       0.44334975 0.61623616]\n",
      "Recall: [0.52898551 0.04545455 0.45685279 0.64478764]\n"
     ]
    },
    {
     "data": {
      "image/png": "[encoded data removed]",
      "text/plain": [
       "<Figure size 432x288 with 1 Axes>"
      ]
     },
     "metadata": {
      "needs_background": "light"
     },
     "output_type": "display_data"
    }
   ],
   "source": [
    "best_score = grid_search.best_score_\n",
    "model_RF1 = grid_search.best_estimator_\n",
    "cmd.from_estimator(model_RF1, x_test, y_test,cmap='Blues',colorbar=False)\n",
    "\n",
    "print(f'Accuracy: {accuracy_score(y_test,model_RF1.predict(x_test))}')\n",
    "print(f'Precision: {precision_score(y_test,model_RF1.predict(x_test),average=None)}')\n",
    "print(f'Recall: {recall_score(y_test,model_RF1.predict(x_test),average=None)}')"
   ]
  },
  {
   "cell_type": "markdown",
   "id": "5c86d3af",
   "metadata": {},
   "source": [
    "### Model 3 - XGBoost"
   ]
  },
  {
   "cell_type": "markdown",
   "id": "ce1324e1",
   "metadata": {},
   "source": [
    "**Side Note**\n",
    "\n",
    "**Best parameter: 'learning_rate': 0.01, 'max_depth': 3, 'n_estimators': 300**\n",
    "\n",
    "**XGBoost with all types of Encoding:** has identical accuracy score.\n",
    "\n",
    "Accuracy: 0.5746753246753247\\\n",
    "Precision: [0.57462687 1.         0.4841629  0.651341  ]\\\n",
    "Recall: [0.55797101 0.         0.54314721 0.65637066]\n"
   ]
  },
  {
   "cell_type": "code",
   "execution_count": 46,
   "id": "0bb801f5",
   "metadata": {},
   "outputs": [
    {
     "name": "stdout",
     "output_type": "stream",
     "text": [
      "{'learning_rate': 0.01, 'max_depth': 3, 'n_estimators': 300}\n"
     ]
    }
   ],
   "source": [
    "# One-Hot Encoding\n",
    "df = pd.get_dummies(data, columns=['service_air', 'service_rail'])\n",
    "x = df.drop(['choice','ID',], axis=1)\n",
    "y = df['choice']\n",
    "x_train, x_test, y_train, y_test = train_test_split(x, y, test_size=0.2,random_state=0)\n",
    "\n",
    "params = {\n",
    "     #'learning_rate': [0.01, 0.1, 0.2],\n",
    "     #'n_estimators': [100, 200, 300],\n",
    "     #'max_depth': [3, 4, 5]\n",
    "     'learning_rate': [0.01],\n",
    "     'n_estimators': [300],\n",
    "     'max_depth': [3]\n",
    " }\n",
    "map = {'air': 0, 'bus': 1, 'car': 2,'rail':3}\n",
    "y_train = y_train.map(map)\n",
    "y_test = y_test.map(map)\n",
    "model_XGB1 =  XGBClassifier()\n",
    "grid_search = GridSearchCV(estimator=model_XGB1, param_grid=params, cv=5, scoring='accuracy')\n",
    "grid_search.fit(x_train, y_train)\n",
    "best_params = grid_search.best_params_\n",
    "print(best_params)"
   ]
  },
  {
   "cell_type": "code",
   "execution_count": 52,
   "id": "a8f47073",
   "metadata": {},
   "outputs": [
    {
     "name": "stdout",
     "output_type": "stream",
     "text": [
      "Accuracy: 0.5746753246753247\n",
      "Precision: [0.57462687 1.         0.4841629  0.651341  ]\n",
      "Recall: [0.55797101 0.         0.54314721 0.65637066]\n"
     ]
    },
    {
     "data": {
      "image/png": "[encoded data removed]",
      "text/plain": [
       "<Figure size 432x288 with 1 Axes>"
      ]
     },
     "metadata": {
      "needs_background": "light"
     },
     "output_type": "display_data"
    }
   ],
   "source": [
    "best_score = grid_search.best_score_\n",
    "model_RF1 = grid_search.best_estimator_\n",
    "cmd.from_estimator(model_RF1, x_test, y_test,cmap='Blues',colorbar=False)\n",
    "\n",
    "print(f'Accuracy: {accuracy_score(y_test,model_RF1.predict(x_test))}')\n",
    "from sklearn.metrics import precision_score\n",
    "print(f'Precision: {precision_score(y_test,model_RF1.predict(x_test),average=None, zero_division=1)}')\n",
    "print(f'Recall: {recall_score(y_test,model_RF1.predict(x_test),average=None)}')"
   ]
  },
  {
   "cell_type": "code",
   "execution_count": 50,
   "id": "5c8c88ed",
   "metadata": {},
   "outputs": [
    {
     "name": "stdout",
     "output_type": "stream",
     "text": [
      "{'learning_rate': 0.01, 'max_depth': 3, 'n_estimators': 300}\n"
     ]
    }
   ],
   "source": [
    "#(2) Label Encoding\n",
    "encoder = LabelEncoder()\n",
    "df=data.copy()\n",
    "df['service_air'] = encoder.fit_transform(df['service_air'])\n",
    "df['service_rail'] = encoder.fit_transform(df['service_rail'])\n",
    "\n",
    "x = df.drop(['choice','ID',], axis=1)\n",
    "y = df['choice']\n",
    "x_train, x_test, y_train, y_test = train_test_split(x, y, test_size=0.2,random_state=0)\n",
    "\n",
    "params = {\n",
    "     #'learning_rate': [0.01, 0.1, 0.2],\n",
    "     #'n_estimators': [100, 200, 300],\n",
    "     #'max_depth': [3, 4, 5]\n",
    "     'learning_rate': [0.01],\n",
    "     'n_estimators': [300],\n",
    "     'max_depth': [3]\n",
    " }\n",
    "map = {'air': 0, 'bus': 1, 'car': 2,'rail':3}\n",
    "y_train = y_train.map(map)\n",
    "y_test = y_test.map(map)\n",
    "model_XGB2 =  XGBClassifier()\n",
    "grid_search = GridSearchCV(estimator=model_XGB2, param_grid=params, cv=5, scoring='accuracy')\n",
    "grid_search.fit(x_train, y_train)\n",
    "best_params = grid_search.best_params_\n",
    "print(best_params)"
   ]
  },
  {
   "cell_type": "code",
   "execution_count": 53,
   "id": "51d317e4",
   "metadata": {},
   "outputs": [
    {
     "name": "stdout",
     "output_type": "stream",
     "text": [
      "Accuracy: 0.5746753246753247\n",
      "Precision: [0.57462687 1.         0.4841629  0.651341  ]\n",
      "Recall: [0.55797101 0.         0.54314721 0.65637066]\n"
     ]
    },
    {
     "data": {
      "image/png": "[encoded data removed]",
      "text/plain": [
       "<Figure size 432x288 with 1 Axes>"
      ]
     },
     "metadata": {
      "needs_background": "light"
     },
     "output_type": "display_data"
    }
   ],
   "source": [
    "best_score = grid_search.best_score_\n",
    "model_XGB2 = grid_search.best_estimator_\n",
    "cmd.from_estimator(model_XGB2, x_test, y_test,cmap='Blues',colorbar=False)\n",
    "\n",
    "print(f'Accuracy: {accuracy_score(y_test,model_XGB2.predict(x_test))}')\n",
    "print(f'Precision: {precision_score(y_test,model_XGB2.predict(x_test),average=None, zero_division=1)}')\n",
    "print(f'Recall: {recall_score(y_test,model_XGB2.predict(x_test),average=None)}')"
   ]
  },
  {
   "cell_type": "code",
   "execution_count": 56,
   "id": "f2cc4fee",
   "metadata": {},
   "outputs": [
    {
     "name": "stdout",
     "output_type": "stream",
     "text": [
      "{'learning_rate': 0.01, 'max_depth': 3, 'n_estimators': 300}\n"
     ]
    }
   ],
   "source": [
    "#(3) Dummy Encoding\n",
    "df=data.copy()\n",
    "dummy_df = pd.get_dummies(df[['service_air', 'service_rail']], drop_first=True)\n",
    "df = pd.concat([df, dummy_df], axis=1)\n",
    "df=df.drop(['service_air', 'service_rail'],axis=1)\n",
    "\n",
    "x = df.drop(['choice','ID',], axis=1)\n",
    "y = df['choice']\n",
    "x_train, x_test, y_train, y_test = train_test_split(x, y, test_size=0.2,random_state=0)\n",
    "\n",
    "params = {\n",
    "     'learning_rate': [0.01],\n",
    "     'n_estimators': [300],\n",
    "     'max_depth': [3]\n",
    " }\n",
    "map = {'air': 0, 'bus': 1, 'car': 2,'rail':3}\n",
    "y_train = y_train.map(map)\n",
    "y_test = y_test.map(map)\n",
    "model_XGB3 =  XGBClassifier()\n",
    "\n",
    "grid_search = GridSearchCV(estimator=model_XGB3, param_grid=params, cv=5, scoring='accuracy')\n",
    "grid_search.fit(x_train, y_train)\n",
    "best_params = grid_search.best_params_\n",
    "print(best_params)"
   ]
  },
  {
   "cell_type": "code",
   "execution_count": 57,
   "id": "6691de0b",
   "metadata": {},
   "outputs": [
    {
     "name": "stdout",
     "output_type": "stream",
     "text": [
      "Accuracy: 0.5746753246753247\n",
      "Precision: [0.57462687 1.         0.4841629  0.651341  ]\n",
      "Recall: [0.55797101 0.         0.54314721 0.65637066]\n"
     ]
    },
    {
     "data": {
      "image/png": "[encoded data removed]",
      "text/plain": [
       "<Figure size 432x288 with 1 Axes>"
      ]
     },
     "metadata": {
      "needs_background": "light"
     },
     "output_type": "display_data"
    }
   ],
   "source": [
    "best_score = grid_search.best_score_\n",
    "model_XGB3 = grid_search.best_estimator_\n",
    "cmd.from_estimator(model_XGB3, x_test, y_test,cmap='Blues',colorbar=False)\n",
    "\n",
    "print(f'Accuracy: {accuracy_score(y_test,model_XGB3.predict(x_test))}')\n",
    "print(f'Precision: {precision_score(y_test,model_XGB3.predict(x_test),average=None, zero_division=1)}')\n",
    "print(f'Recall: {recall_score(y_test,model_XGB3.predict(x_test),average=None)}')"
   ]
  },
  {
   "cell_type": "markdown",
   "id": "8f71918c",
   "metadata": {},
   "source": [
    "### Model 4 - SVM"
   ]
  },
  {
   "cell_type": "markdown",
   "id": "b5a492d2",
   "metadata": {},
   "source": [
    "**Side Note**\n",
    "\n",
    "**Best parameter: 'C' = 0.1**\n",
    "\n",
    "**SVM with Dummy Coding:** has identical accuracy score.\n",
    "\n",
    "**SVM with Label Encoding:**\\\n",
    "Accuracy: 0.551948051948052\\\n",
    "Precision: [0.51948052 1.         0.45959596 0.64015152]\\\n",
    "Recall: [0.57971014 0.         0.46192893 0.65250965]\n",
    "\n",
    "\n",
    "**SVM with One-Hot Encoding:**\\\n",
    "Accuracy: 0.564935064935065\\\n",
    "Precision: [0.54861111 1.         0.4556962  0.68510638]\\\n",
    "Recall: [0.57246377 0.         0.54822335 0.62162162"
   ]
  },
  {
   "cell_type": "code",
   "execution_count": 66,
   "id": "afc007ad",
   "metadata": {},
   "outputs": [
    {
     "name": "stdout",
     "output_type": "stream",
     "text": [
      "{'C': 0.1}\n"
     ]
    }
   ],
   "source": [
    "#(3) Dummy Encoding\n",
    "df=data.copy()\n",
    "dummy_df = pd.get_dummies(df[['service_air', 'service_rail']], drop_first=True)\n",
    "df = pd.concat([df, dummy_df], axis=1)\n",
    "df=df.drop(['service_air', 'service_rail'],axis=1)\n",
    "\n",
    "x = df.drop(['choice','ID',], axis=1)\n",
    "y = df['choice']\n",
    "x_train, x_test, y_train, y_test = train_test_split(x, y, test_size=0.2,random_state=0)\n",
    "\n",
    "params = {\n",
    "    'C': [0.1],\n",
    "}\n",
    "\n",
    "model_SVC3= SVC(kernel=\"linear\")\n",
    "\n",
    "grid_search = GridSearchCV(estimator=model_SVC3, param_grid=params, cv=5, scoring='accuracy')\n",
    "grid_search.fit(x_train, y_train)\n",
    "best_params = grid_search.best_params_\n",
    "print(best_params)"
   ]
  },
  {
   "cell_type": "code",
   "execution_count": 67,
   "id": "8c21ec86",
   "metadata": {},
   "outputs": [
    {
     "name": "stdout",
     "output_type": "stream",
     "text": [
      "Accuracy: 0.5665584415584416\n",
      "Precision: [0.54054054 1.         0.46606335 0.67206478]\n",
      "Recall: [0.57971014 0.         0.52284264 0.64092664]\n"
     ]
    },
    {
     "data": {
      "image/png": "[encoded data removed]",
      "text/plain": [
       "<Figure size 432x288 with 1 Axes>"
      ]
     },
     "metadata": {
      "needs_background": "light"
     },
     "output_type": "display_data"
    }
   ],
   "source": [
    "best_score = grid_search.best_score_\n",
    "model_SVC3 = grid_search.best_estimator_\n",
    "cmd.from_estimator(model_SVC3, x_test, y_test,cmap='Blues',colorbar=False)\n",
    "\n",
    "print(f'Accuracy: {accuracy_score(y_test,model_SVC3.predict(x_test))}')\n",
    "print(f'Precision: {precision_score(y_test,model_SVC3.predict(x_test),average=None, zero_division=1)}')\n",
    "print(f'Recall: {recall_score(y_test,model_SVC3.predict(x_test),average=None)}')"
   ]
  }
 ],
 "metadata": {
  "kernelspec": {
   "display_name": "Python 3 (ipykernel)",
   "language": "python",
   "name": "python3"
  },
  "language_info": {
   "codemirror_mode": {
    "name": "ipython",
    "version": 3
   },
   "file_extension": ".py",
   "mimetype": "text/x-python",
   "name": "python",
   "nbconvert_exporter": "python",
   "pygments_lexer": "ipython3",
   "version": "3.9.12"
  }
 },
 "nbformat": 4,
 "nbformat_minor": 5
}
